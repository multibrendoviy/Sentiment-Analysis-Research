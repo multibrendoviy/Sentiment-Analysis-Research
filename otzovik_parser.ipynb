{
 "cells": [
  {
   "cell_type": "code",
   "execution_count": 4,
   "id": "338fcdc7",
   "metadata": {},
   "outputs": [],
   "source": [
    "import pandas as pd\n",
    "\n",
    "from bs4 import BeautifulSoup\n",
    "from selenium import webdriver\n",
    "\n",
    "from tqdm import tqdm_notebook\n",
    "import time\n",
    "\n",
    "import csv"
   ]
  },
  {
   "cell_type": "code",
   "execution_count": 5,
   "id": "f706078d",
   "metadata": {},
   "outputs": [],
   "source": [
    "def write_csv(data:dict):\n",
    "    \"\"\"\n",
    "    Функция записи полученных данных в файл\n",
    "    \"\"\"\n",
    "    \n",
    "    with open('data_reviews.csv', 'a') as f:\n",
    "            writer = csv.writer(f)\n",
    "            writer.writerow((data['reviewText'], \n",
    "                             data['label']))\n",
    "    \n",
    "    \n",
    "def get_parse(url:str, start_page:int = 0, end_page:int = 500):\n",
    "    \"\"\"\n",
    "    Функция парсинга сайта \n",
    "    \"\"\"\n",
    "    \n",
    "    # Использование selenium для решения капч, создание окна\n",
    "    driver = webdriver.Firefox()\n",
    "    # Циклом осуществляется проход по страницам с тизерами отзывов  \n",
    "    for i in tqdm_notebook(range(start_page, end_page + 1)):\n",
    "         \n",
    "        if i % 10 == 1:\n",
    "            time.sleep(5)\n",
    "        try:\n",
    "            # Получение данных с конкретной страницы с тизерами отзывов\n",
    "            url = f'{str(url)}/{i + 1}/'\n",
    "            driver.get(url)\n",
    "            # Получение всех ссылок на полные отзывы на странице с тизерами\n",
    "            soup = BeautifulSoup(driver.page_source, 'html.parser')\n",
    "            href_list = soup.find_all('a', class_='review-btn review-read-link')\n",
    "\n",
    "            for link in href_list:\n",
    "                # Проход циклом по всем ссылкам, полученным со страницы\n",
    "                href = str(HOST + link['href'])\n",
    "                driver.get(href)\n",
    "                time.sleep(.5)\n",
    "                soup = BeautifulSoup(driver.page_source, 'html.parser')\n",
    "                \n",
    "                # Получение текста отзыва \n",
    "                review_text = soup.find('div', \n",
    "                                        class_='review-body description').getText()\n",
    "                # Получение метки отзыва\n",
    "                label = soup.find('div', class_='rating-score tooltip-right')  \\\n",
    "                    .find('span').text\n",
    "                data = {'reviewText': review_text, 'label': label}\n",
    "                # Запись данных в файл\n",
    "                write_csv(data)\n",
    "                \n",
    "        except Exception as ex:\n",
    "            print(ex)"
   ]
  },
  {
   "cell_type": "code",
   "execution_count": 7,
   "id": "1b508d62",
   "metadata": {},
   "outputs": [
    {
     "name": "stderr",
     "output_type": "stream",
     "text": [
      "C:\\Users\\Andrey\\AppData\\Local\\Temp\\ipykernel_10532\\1391730791.py:20: TqdmDeprecationWarning: This function will be removed in tqdm==5.0.0\n",
      "Please use `tqdm.notebook.tqdm` instead of `tqdm.tqdm_notebook`\n",
      "  for i in tqdm_notebook(range(start_page, end_page + 1)):\n"
     ]
    },
    {
     "data": {
      "application/vnd.jupyter.widget-view+json": {
       "model_id": "b40b26ce50824373bedb0d7f13bfde43",
       "version_major": 2,
       "version_minor": 0
      },
      "text/plain": [
       "  0%|          | 0/3 [00:00<?, ?it/s]"
      ]
     },
     "metadata": {},
     "output_type": "display_data"
    }
   ],
   "source": [
    "HOST = \"https://otzovik.com\"\n",
    "URL = \"https://otzovik.com/reviews/ozon_ru_online_shop/10/\"\n",
    "\n",
    "get_parse(URL, start_page=50, end_page=52)"
   ]
  },
  {
   "cell_type": "code",
   "execution_count": 38,
   "id": "203dcb2b",
   "metadata": {},
   "outputs": [
    {
     "data": {
      "text/html": [
       "<div>\n",
       "<style scoped>\n",
       "    .dataframe tbody tr th:only-of-type {\n",
       "        vertical-align: middle;\n",
       "    }\n",
       "\n",
       "    .dataframe tbody tr th {\n",
       "        vertical-align: top;\n",
       "    }\n",
       "\n",
       "    .dataframe thead th {\n",
       "        text-align: right;\n",
       "    }\n",
       "</style>\n",
       "<table border=\"1\" class=\"dataframe\">\n",
       "  <thead>\n",
       "    <tr style=\"text-align: right;\">\n",
       "      <th></th>\n",
       "      <th>reviewText</th>\n",
       "      <th>label</th>\n",
       "    </tr>\n",
       "  </thead>\n",
       "  <tbody>\n",
       "    <tr>\n",
       "      <th>0</th>\n",
       "      <td>Впервые я взяла рассрочку(никогда ничего не бр...</td>\n",
       "      <td>1</td>\n",
       "    </tr>\n",
       "    <tr>\n",
       "      <th>1</th>\n",
       "      <td>Только что увидела дешевый флэш накопитель, оп...</td>\n",
       "      <td>3</td>\n",
       "    </tr>\n",
       "    <tr>\n",
       "      <th>2</th>\n",
       "      <td>С данным интернет-магазином я познакомился год...</td>\n",
       "      <td>5</td>\n",
       "    </tr>\n",
       "    <tr>\n",
       "      <th>3</th>\n",
       "      <td>Наша жизнь не стоит на месте. Время идет, и вс...</td>\n",
       "      <td>4</td>\n",
       "    </tr>\n",
       "    <tr>\n",
       "      <th>4</th>\n",
       "      <td>Интернет-магазин Ozon.ru .Этот интернет магази...</td>\n",
       "      <td>5</td>\n",
       "    </tr>\n",
       "    <tr>\n",
       "      <th>...</th>\n",
       "      <td>...</td>\n",
       "      <td>...</td>\n",
       "    </tr>\n",
       "    <tr>\n",
       "      <th>15399</th>\n",
       "      <td>Везут товар хрен знает сколько, только завтрак...</td>\n",
       "      <td>1</td>\n",
       "    </tr>\n",
       "    <tr>\n",
       "      <th>15400</th>\n",
       "      <td>Заказывал подушку с доставкой на след. день в ...</td>\n",
       "      <td>1</td>\n",
       "    </tr>\n",
       "    <tr>\n",
       "      <th>15401</th>\n",
       "      <td>Неделю назад я совершила покупку на сайте мага...</td>\n",
       "      <td>1</td>\n",
       "    </tr>\n",
       "    <tr>\n",
       "      <th>15402</th>\n",
       "      <td>Уже в отчаянии адекватно и правильно решить пр...</td>\n",
       "      <td>1</td>\n",
       "    </tr>\n",
       "    <tr>\n",
       "      <th>15403</th>\n",
       "      <td>Являюсь поставщиком Озон! Очень жалею, что воо...</td>\n",
       "      <td>1</td>\n",
       "    </tr>\n",
       "  </tbody>\n",
       "</table>\n",
       "<p>15404 rows × 2 columns</p>\n",
       "</div>"
      ],
      "text/plain": [
       "                                              reviewText  label\n",
       "0      Впервые я взяла рассрочку(никогда ничего не бр...      1\n",
       "1      Только что увидела дешевый флэш накопитель, оп...      3\n",
       "2      С данным интернет-магазином я познакомился год...      5\n",
       "3      Наша жизнь не стоит на месте. Время идет, и вс...      4\n",
       "4      Интернет-магазин Ozon.ru .Этот интернет магази...      5\n",
       "...                                                  ...    ...\n",
       "15399  Везут товар хрен знает сколько, только завтрак...      1\n",
       "15400  Заказывал подушку с доставкой на след. день в ...      1\n",
       "15401  Неделю назад я совершила покупку на сайте мага...      1\n",
       "15402  Уже в отчаянии адекватно и правильно решить пр...      1\n",
       "15403  Являюсь поставщиком Озон! Очень жалею, что воо...      1\n",
       "\n",
       "[15404 rows x 2 columns]"
      ]
     },
     "execution_count": 38,
     "metadata": {},
     "output_type": "execute_result"
    }
   ],
   "source": [
    "df = pd.read_csv('data_reviews.csv', \n",
    "                 names=['reviewText', 'label'], \n",
    "                 encoding='windows_1251')\n",
    "df"
   ]
  }
 ],
 "metadata": {
  "kernelspec": {
   "display_name": "Python 3 (ipykernel)",
   "language": "python",
   "name": "python3"
  },
  "language_info": {
   "codemirror_mode": {
    "name": "ipython",
    "version": 3
   },
   "file_extension": ".py",
   "mimetype": "text/x-python",
   "name": "python",
   "nbconvert_exporter": "python",
   "pygments_lexer": "ipython3",
   "version": "3.10.7"
  },
  "toc": {
   "base_numbering": 1,
   "nav_menu": {},
   "number_sections": true,
   "sideBar": true,
   "skip_h1_title": false,
   "title_cell": "Table of Contents",
   "title_sidebar": "Contents",
   "toc_cell": false,
   "toc_position": {},
   "toc_section_display": true,
   "toc_window_display": false
  }
 },
 "nbformat": 4,
 "nbformat_minor": 5
}
